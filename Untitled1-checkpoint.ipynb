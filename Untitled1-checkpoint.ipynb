{
 "cells": [
  {
   "cell_type": "markdown",
   "id": "1d48d7be",
   "metadata": {},
   "source": [
    "Exercício 15 \n",
    "\n",
    "Faça um programa para a leitura de duas notas parciais de um aluno. O programa deve calcular a média alcançada por aluno e apresentar:\n",
    "\n",
    "1) A mensagem \"Aprovado\", se a média alcançada for maior ou igual a sete;\n",
    "\n",
    "2) mensagem \"Reprovado\", se a média for menor do que sete;\n",
    "\n",
    "3) mensagem \"Aprovado com Distinção\", se a média for igual a dez."
   ]
  },
  {
   "cell_type": "code",
   "execution_count": null,
   "id": "ad171b1e",
   "metadata": {},
   "outputs": [],
   "source": []
  },
  {
   "cell_type": "markdown",
   "id": "c25b31cd",
   "metadata": {},
   "source": [
    "# Exercício 16 \n",
    "\n",
    "Faça um Programa que leia três números e mostre o maior deles."
   ]
  },
  {
   "cell_type": "code",
   "execution_count": null,
   "id": "da4141e6",
   "metadata": {},
   "outputs": [],
   "source": [
    "# 1. DECLARAR AS VARIÁVEIS\n",
    "\n",
    "num_1 = float (input('Digite o primeiro valor:'))\n",
    "num_2 = float (input('Digite o segundo valor:'))\n",
    "num_3 = float (input('Digite o terceiro valor:'))\n",
    "\n",
    "# 2. VERIFICAR O MAIOR VALOR\n",
    "\n",
    "if num_1 > num_2 and num_1 > num_3:\n",
    "    print(f'O maior valor é: {num_1}.')\n",
    "           \n",
    "elif num_2 > num_1 and num_2 > num_3:\n",
    "     print(f'O maior valor é: {num_1}.')\n",
    "    \n",
    "elif num_3 > num_1 and num_3 > num_2:\n",
    "     print(f'O maior valor é: {num_1}.')\n",
    "           "
   ]
  },
  {
   "cell_type": "markdown",
   "id": "4def57f7",
   "metadata": {},
   "source": [
    "# Exercício 17\n",
    "\n",
    "Faça um Programa que leia três números e mostre o maior e o menor deles."
   ]
  },
  {
   "cell_type": "code",
   "execution_count": null,
   "id": "e6465933",
   "metadata": {},
   "outputs": [],
   "source": [
    "num_1 = float (input('Digite o primeiro valor:'))\n",
    "num_2 = float (input('Digite o segundo valor:'))\n",
    "num_3 = float (input('Digite o terceiro valor:'))\n",
    "\n",
    "    \n",
    " # 2) verificar os valores\n",
    "    #verificando se o numero 1 é maior \n",
    "if num_1 > num_2 and num_1 > num_3:\n",
    "    \n",
    "    if num_2 < num_3: \n",
    "        print(f'O maior valor é: {num_1} e menor valor è {num_2}')\n",
    "    \n",
    "    else:\n",
    "        print(f'O maior valor é: {num_1} e menor valor è {num_3}')\n",
    "        \n",
    "elif num_2 > num_1 and num_2 > num_3:\n",
    "    \n",
    "    if num_1 < num_3:\n",
    "        print(f'O maior valor é: {num_2} e menor valor è {num_1}')\n",
    "    else:\n",
    "        print(f'O maior valor é: {num_2} e menor valor è {num_3}')\n",
    "\n",
    "elif num_3 > num_1 and num_3 > num_2:\n",
    "    if num_3 < num_1:\n",
    "        print(f'O maior valor é: {num_3} e menor valor è {num_2}')\n",
    "    else:\n",
    "        print(f'O maior valor é: {num_2} e menor valor è {num_3}')\n"
   ]
  },
  {
   "cell_type": "markdown",
   "id": "6c525b10",
   "metadata": {},
   "source": [
    "# Exercício 18\n",
    "\n",
    "Faça um programa que pergunte o preço de três produtos e informe qual produto você deve comprar, sabendo que a decisão é sempre pelo mais barato."
   ]
  },
  {
   "cell_type": "code",
   "execution_count": null,
   "id": "165ff37b",
   "metadata": {},
   "outputs": [],
   "source": [
    "preco_1 = float (input('Digite é o valor do primeiro prudoto R$: '))\n",
    "preco_2 = float (input('Digite é o valor do segundo prudoto R$: '))\n",
    "preco_3 = float (input('Digite é o valor do terceiro prudoto R$: '))\n",
    "\n",
    "if preco_1 < preco_2 and preco_1 < preco_3:\n",
    "    print(f'compre o produto 01, cujo valor é R$: {preco_1}.')\n",
    "\n",
    "\n",
    "elif preco_2 < preco_1 and preco_2 < preco_3:\n",
    "    print(f'compre o produto 02, cujo valor é R$: {preco_2}.')\n",
    "\n",
    "elif preco_3 < preco_1 and preco_3 < preco_2:\n",
    "    print(f'compre o produto 03, cujo valor é R$: {preco_3}.') \n",
    "\n",
    "        \n",
    "     \n"
   ]
  },
  {
   "cell_type": "markdown",
   "id": "74c2cfa6",
   "metadata": {},
   "source": [
    "# Exercício 19\n",
    "\n",
    "Faça um Programa que leia três números e mostre-os em ordem decrescente."
   ]
  },
  {
   "cell_type": "code",
   "execution_count": null,
   "id": "6bb93add",
   "metadata": {},
   "outputs": [],
   "source": [
    "num_1 = float (input('Digite o primeiro valor: '))\n",
    "num_2 = float (input('Digite o segundo valor: '))\n",
    "num_3 = float (input('Digite o terceiro valor: '))\n",
    "\n",
    "if num_1 > num_2 and num_1 > num_3:\n",
    "    if num_2 > num_3:\n",
    "        print (f'1º valor:{num_1}),2º valor:{num_2}, 3º valor:{num_3}.')\n",
    "    else:\n",
    "        print (f'1º valor:{num_1}),2º valor:{num_3}, 3º valor:{num_2}.')\n",
    "        \n",
    "elif num_2 > num_1 and num_2 > num_3:\n",
    "\n",
    "    if num_1 > num_3:\n",
    "        print (f'1º valor:{num_2}),2º valor:{num_1}, 3º valor:{num_3}.')\n",
    "    else:\n",
    "        print (f'1º valor:{num_2}),2º valor:{num_3}, 3º valor:{num_1}.')\n",
    "\n",
    "elif num_3 > num_1 and num_3 > num_1:\n",
    "\n",
    "    if num_1 > num_3:\n",
    "        print (f'1º valor:{num_3}),2º valor:{num_1}, 3º valor:{num_2}.')\n",
    "    else:\n",
    "        print (f'1º valor:{num_3}),2º valor:{num_2}, 3º valor:{num_1}.')"
   ]
  },
  {
   "cell_type": "markdown",
   "id": "a1b7a4b6",
   "metadata": {},
   "source": [
    "# Exercício 20 \n",
    "\n",
    "Faça um Programa que pergunte em que turno você estuda. Peça para digitar M-matutino ou V-Vespertino ou N- Noturno. Imprima a mensagem \"Bom Dia!\", \"Boa Tarde!\" ou \"Boa Noite!\" ou \"Valor Inválido!\", conforme o caso."
   ]
  },
  {
   "cell_type": "code",
   "execution_count": 1,
   "id": "ed4be96f",
   "metadata": {},
   "outputs": [
    {
     "name": "stdout",
     "output_type": "stream",
     "text": [
      "Qual turno você estuda ?v\n",
      "Boa tarde!\n"
     ]
    }
   ],
   "source": [
    "turno = input( 'Qual turno você estuda ?')\n",
    "\n",
    "if turno == \"m\":\n",
    "    print (\"Bom dia !\")\n",
    "\n",
    "elif turno == \"v\":\n",
    "    print (\"Boa tarde!\")\n",
    "\n",
    "elif turno == \"n\":\n",
    "    print (\"Bom noite !\")\n",
    "\n",
    "else: \n",
    "    print ( 'valor inválido')\n"
   ]
  },
  {
   "cell_type": "code",
   "execution_count": null,
   "id": "fd936780",
   "metadata": {},
   "outputs": [],
   "source": []
  },
  {
   "cell_type": "code",
   "execution_count": null,
   "id": "b1faa079",
   "metadata": {},
   "outputs": [],
   "source": []
  }
 ],
 "metadata": {
  "kernelspec": {
   "display_name": "Python 3 (ipykernel)",
   "language": "python",
   "name": "python3"
  },
  "language_info": {
   "codemirror_mode": {
    "name": "ipython",
    "version": 3
   },
   "file_extension": ".py",
   "mimetype": "text/x-python",
   "name": "python",
   "nbconvert_exporter": "python",
   "pygments_lexer": "ipython3",
   "version": "3.10.9"
  }
 },
 "nbformat": 4,
 "nbformat_minor": 5
}
