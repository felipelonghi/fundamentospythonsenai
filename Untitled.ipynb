{
 "cells": [
  {
   "cell_type": "markdown",
   "id": "a81cd10d",
   "metadata": {},
   "source": [
    "# Exercício 01 \n",
    "\n",
    "Crie uma variável chamada \"idade\" e atribua um valor inteiro a ela. Verifique se a idade é maior ou igual a 18 e imprima \"Maior de idade\" ou \"Menor de idade\" de acordo com a condição."
   ]
  },
  {
   "cell_type": "code",
   "execution_count": null,
   "id": "67153af3",
   "metadata": {},
   "outputs": [],
   "source": [
    "idade = 18\n",
    "\n",
    "if idade >= 18:\n",
    "    print (\"Maior de Idade\")\n",
    "else: \n",
    "    print (\"Menor de Idade\")\n",
    "    "
   ]
  },
  {
   "cell_type": "markdown",
   "id": "d93dcec8",
   "metadata": {},
   "source": [
    "# Exercício 02\n",
    "\n",
    "Crie uma variável chamada \"número\" e atribua um valor inteiro a ela. Verifique se o número é positivo, negativo ou zero e imprima a mensagem correspondente."
   ]
  },
  {
   "cell_type": "code",
   "execution_count": null,
   "id": "d3ddd0c9",
   "metadata": {},
   "outputs": [],
   "source": [
    "num = 20\n",
    "\n",
    "# Se o número for maior do que zero\n",
    "if num > 0:\n",
    "    print ('positivo')\n",
    "else:\n",
    "    print (\"negativo\")\n",
    "    \n",
    "    "
   ]
  },
  {
   "cell_type": "code",
   "execution_count": null,
   "id": "a52e5711",
   "metadata": {},
   "outputs": [],
   "source": [
    "# Verificar se o numero é positivo, negativo ou nulo\n",
    "\n",
    "num = 0\n",
    "\n",
    "if num > 0:\n",
    "    print (\"Positivo\")\n",
    "\n",
    "elif num < 0:\n",
    "    print (\"Negativo\")\n",
    "\n",
    "else:\n",
    "    print (\"Nulo\")"
   ]
  },
  {
   "cell_type": "markdown",
   "id": "6207e346",
   "metadata": {},
   "source": [
    "# Exercício 03\n",
    "\n",
    "Crie duas variáveis, \"nota1\" e \"nota2\", e atribua valores numéricos a elas. Verifique se a média das notas é maior ou igual a 7 e imprima \"Aprovado\" ou \"Reprovado\" de acordo com a condição."
   ]
  },
  {
   "cell_type": "code",
   "execution_count": null,
   "id": "8dc9612b",
   "metadata": {},
   "outputs": [],
   "source": [
    " \n",
    "nota_1 = input(\" Digite a nota 01: \")\n",
    "nota_2 = input(\" Digite a nota 02: \")\n",
    "\n",
    "# converter os dados para float ( Número de cimal)\n",
    "\n",
    "nota_1 = float(nota_1)\n",
    "nota_2 = float(nota_2)\n",
    "\n",
    "media = (nota_1 + nota_2)/2\n",
    "\n",
    "if media >= 7:\n",
    "    print (\"aprovado\")\n",
    "    \n",
    "else:\n",
    "    print (\"reprovado\")\n",
    "    "
   ]
  },
  {
   "cell_type": "markdown",
   "id": "7f6a45ac",
   "metadata": {},
   "source": [
    "# Exercício 04\n",
    "\n",
    "Crie uma variável chamada \"idade\" e atribua um valor inteiro a ela. Verifique se a idade está dentro do intervalo de 18 a 30 (inclusive) e imprima a mensagem \"Idade válida\" ou \"Idade inválida\" de acordo com a condição."
   ]
  },
  {
   "cell_type": "code",
   "execution_count": null,
   "id": "e25d8e6e",
   "metadata": {},
   "outputs": [],
   "source": [
    "#idade = 18\n",
    "idade = input (\"digite a sua idade:\")\n",
    "\n",
    "#converter em valor inteiro\n",
    "\n",
    "idade = int(idade)\n",
    "\n",
    "if idade >= 18 and idade <= 30:\n",
    "    print (\"Idade Valida\")\n",
    "    \n",
    "else:\n",
    "    print (\"Idade inválida\")\n",
    "    \n",
    "\n"
   ]
  },
  {
   "cell_type": "markdown",
   "id": "a6382cb3",
   "metadata": {},
   "source": [
    "# Exercício 05 \n",
    "\n",
    "Crie uma variável chamada \"numero\" e atribua um valor inteiro a ela. Verifique se o número é par ou ímpar e imprima a mensagem correspondente."
   ]
  },
  {
   "cell_type": "code",
   "execution_count": null,
   "id": "17db981e",
   "metadata": {},
   "outputs": [],
   "source": [
    "#numero = 10\n",
    "num = input (\"digite um numero \")\n",
    "\n",
    "num = int(num) # converter em numero inteiro\n",
    "\n",
    "if num % 2 == 0:\n",
    "    print (\"par\")\n",
    "\n",
    "else:\n",
    "    print (\"impar\")"
   ]
  },
  {
   "cell_type": "markdown",
   "id": "28f976c4",
   "metadata": {},
   "source": [
    "# Exercício 06 \n",
    "\n",
    "Crie uma variável chamada \"horario\" e atribua um valor inteiro representando a hora do dia (em formato 24 horas). Verifique se o horário está dentro do período da manhã (das 6h às 12h), da tarde (das 12h às 18h) ou da noite (das 18h às 23h) e imprima a mensagem correspondente."
   ]
  },
  {
   "cell_type": "code",
   "execution_count": null,
   "id": "94e5e26d",
   "metadata": {},
   "outputs": [],
   "source": [
    "horario = input (\" Digite um horario \" )\n",
    "\n",
    "horario = int(horario)\n",
    "\n",
    "if horario>= 6 and horario< 12:\n",
    "    print ( \" Bom dia \" )\n",
    "    \n",
    "elif horario>=12 and horario<18:\n",
    "    print (\" Boa tarde \")\n",
    "    \n",
    "else:\n",
    "    print (\" Boa Noite \")\n",
    "    "
   ]
  },
  {
   "cell_type": "markdown",
   "id": "f2c3f255",
   "metadata": {},
   "source": [
    "# Exercício 07\n",
    "\n",
    "Crie uma variável chamada \"peso\" e atribua um valor numérico a ela. Verifique se o peso está dentro do intervalo de 50 a 100 (inclusive) e imprima a mensagem \"Peso válido\" ou \"Peso inválido\" de acordo com a condição."
   ]
  },
  {
   "cell_type": "code",
   "execution_count": null,
   "id": "eac78213",
   "metadata": {},
   "outputs": [],
   "source": [
    "peso = input (\" Digite o seu peso kg\")\n",
    "\n",
    "peso = int(peso)\n",
    "\n",
    "if peso >= 50 and peso <= 100:\n",
    "    print (\"Peso Valido\")\n",
    "    \n",
    "else:\n",
    "    print (\"Peso inválido\")\n",
    "    "
   ]
  },
  {
   "cell_type": "markdown",
   "id": "75a3539c",
   "metadata": {},
   "source": [
    "# Exercício 08\n",
    "\n",
    "Crie uma variável chamada \"numero\" e atribua um valor inteiro a ela. Verifique se o número é múltiplo de 3 e de 5 ao mesmo tempo e imprima a mensagem correspondente."
   ]
  },
  {
   "cell_type": "code",
   "execution_count": null,
   "id": "9a6a49b5",
   "metadata": {},
   "outputs": [],
   "source": [
    "num = input (\" Digite um numero \" )\n",
    "\n",
    "num = int(num)\n",
    "\n",
    "if num % 3 == 0 and num % 5 == 0:\n",
    "    print (\" correspondente \")\n",
    "    \n",
    "else:\n",
    "    print (\" não correspondente \" )\n",
    "    "
   ]
  },
  {
   "cell_type": "markdown",
   "id": "ff7a9f66",
   "metadata": {},
   "source": [
    "# Exercício 09\n",
    "\n",
    "Crie uma variável chamada \"ano\" e atribua um valor inteiro representando um ano. Verifique se o ano é bissexto (divisível por 4, mas não por 100, exceto se for divisível por 400) e imprima a mensagem correspondente."
   ]
  },
  {
   "cell_type": "code",
   "execution_count": null,
   "id": "2806d0ab",
   "metadata": {},
   "outputs": [],
   "source": [
    "ano = input ()"
   ]
  },
  {
   "cell_type": "markdown",
   "id": "4a579c97",
   "metadata": {},
   "source": [
    "# Exercício 10 \n",
    "\n",
    "Crie uma variável chamada \"salario\" e atribua um valor numérico a ela. Verifique se o salário é maior do que 1000 e menor do que 2000 ao mesmo tempo e imprima a mensagem correspondente.\n"
   ]
  },
  {
   "cell_type": "code",
   "execution_count": null,
   "id": "b4ee7189",
   "metadata": {},
   "outputs": [],
   "source": [
    "salario = input( \"Digite o seu salario R$ \")\n",
    "\n",
    "salario = int(salario)\n",
    "\n",
    "if salario >= 1000 and salario <= 2000:\n",
    "    print (\" Correspondente \")\n",
    "    \n",
    "else:\n",
    "    (\"não correspondente\")\n"
   ]
  },
  {
   "cell_type": "markdown",
   "id": "7ab08388",
   "metadata": {},
   "source": [
    "# Exercício 11 \n",
    "Faça um Programa que peça dois números e imprima o maior deles."
   ]
  },
  {
   "cell_type": "code",
   "execution_count": null,
   "id": "c6df4c19",
   "metadata": {},
   "outputs": [],
   "source": [
    "num1 = input(\" Digite o primeiro número\")\n",
    "num2 = input(\" Digite o segundo número\")\n",
    "\n",
    "num1 = int(num1)\n",
    "num2 = int(num2)\n",
    "\n",
    "if num1 > num2:\n",
    "    print (f\"o maior valor é {num1} e o menor é {num2}. \")\n",
    "    \n",
    "else:\n",
    "    print (f\"o maior valor é {num2} e o menor é {num1}. \")\n"
   ]
  },
  {
   "cell_type": "markdown",
   "id": "143d938c",
   "metadata": {},
   "source": [
    "# Exercício 12 \n",
    "Faça um Programa que peça um valor e mostre na tela se o valor é positivo ou negativo."
   ]
  },
  {
   "cell_type": "code",
   "execution_count": null,
   "id": "b0648c8c",
   "metadata": {},
   "outputs": [],
   "source": [
    "valor = input(valor)\n",
    "\n",
    "valor = int(valor)\n",
    "\n",
    "if "
   ]
  },
  {
   "cell_type": "markdown",
   "id": "8d77f515",
   "metadata": {},
   "source": [
    "# Exercício 16 \n",
    "Faça um Programa que leia três números e mostre o maior deles."
   ]
  },
  {
   "cell_type": "code",
   "execution_count": 3,
   "id": "f2614f8e",
   "metadata": {},
   "outputs": [
    {
     "ename": "SyntaxError",
     "evalue": "unterminated string literal (detected at line 10) (1222206471.py, line 10)",
     "output_type": "error",
     "traceback": [
      "\u001b[1;36m  Cell \u001b[1;32mIn[3], line 10\u001b[1;36m\u001b[0m\n\u001b[1;33m    print (f\"o maior valor é {num1}.)\u001b[0m\n\u001b[1;37m           ^\u001b[0m\n\u001b[1;31mSyntaxError\u001b[0m\u001b[1;31m:\u001b[0m unterminated string literal (detected at line 10)\n"
     ]
    }
   ],
   "source": [
    "num1 = input(\" Digite o primeiro número\")\n",
    "num2 = input(\" Digite o segundo número\")\n",
    "num3 = input(\" Digite o terceiro número\")\n",
    "\n",
    "num1 = int(num1)\n",
    "num2 = int(num2)\n",
    "num3 = int(num3)\n",
    "\n",
    "if > num1 and > num2 and > num 3:\n",
    "    print (f\"o maior valor é {num1}.)\n",
    "\n",
    "elif > num 2 and "
   ]
  },
  {
   "cell_type": "code",
   "execution_count": null,
   "id": "77a0e911",
   "metadata": {},
   "outputs": [],
   "source": []
  },
  {
   "cell_type": "code",
   "execution_count": null,
   "id": "792ccb16",
   "metadata": {},
   "outputs": [],
   "source": []
  }
 ],
 "metadata": {
  "kernelspec": {
   "display_name": "Python 3 (ipykernel)",
   "language": "python",
   "name": "python3"
  },
  "language_info": {
   "codemirror_mode": {
    "name": "ipython",
    "version": 3
   },
   "file_extension": ".py",
   "mimetype": "text/x-python",
   "name": "python",
   "nbconvert_exporter": "python",
   "pygments_lexer": "ipython3",
   "version": "3.10.9"
  }
 },
 "nbformat": 4,
 "nbformat_minor": 5
}
