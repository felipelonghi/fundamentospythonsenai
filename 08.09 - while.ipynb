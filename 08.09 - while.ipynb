{
 "cells": [
  {
   "cell_type": "markdown",
   "metadata": {},
   "source": [
    "# Exercício 01 \n",
    "Escreva um programa que imprima todos os números pares de 1 a 100. (FOR)"
   ]
  },
  {
   "cell_type": "code",
   "execution_count": 15,
   "metadata": {},
   "outputs": [
    {
     "name": "stdout",
     "output_type": "stream",
     "text": [
      "2\n",
      "4\n",
      "6\n",
      "8\n",
      "10\n",
      "12\n",
      "14\n",
      "16\n",
      "18\n",
      "20\n",
      "22\n",
      "24\n",
      "26\n",
      "28\n",
      "30\n",
      "32\n",
      "34\n",
      "36\n",
      "38\n",
      "40\n",
      "42\n",
      "44\n",
      "46\n",
      "48\n",
      "50\n",
      "52\n",
      "54\n",
      "56\n",
      "58\n",
      "60\n",
      "62\n",
      "64\n",
      "66\n",
      "68\n",
      "70\n",
      "72\n",
      "74\n",
      "76\n",
      "78\n",
      "80\n",
      "82\n",
      "84\n",
      "86\n",
      "88\n",
      "90\n",
      "92\n",
      "94\n",
      "96\n",
      "98\n",
      "100\n"
     ]
    }
   ],
   "source": [
    "#Criando um intervalo de 1 a 100\n",
    "numeros = range(1, 101) \n",
    "\n",
    "for num in numeros:\n",
    "    if num % 2 ==0:\n",
    "        print(num)\n",
    "\n"
   ]
  },
  {
   "cell_type": "markdown",
   "metadata": {},
   "source": [
    "# Exercício 02 \n",
    "Crie um programa que conte quantas vezes a letra 'a' aparece em uma frase inserida pelo usuário. (FOR e IF)"
   ]
  },
  {
   "cell_type": "code",
   "execution_count": 16,
   "metadata": {},
   "outputs": [
    {
     "name": "stdout",
     "output_type": "stream",
     "text": [
      "A frase contém 2 lentras A.\n"
     ]
    }
   ],
   "source": [
    "frase = input('Digite algo aqui: ')\n",
    "\n",
    "#Converter todas as letras em minúsculo\n",
    "frase = frase.lower()\n",
    "\n",
    "\n",
    "contador = 0\n",
    "\n",
    "for letra in frase:\n",
    "    if letra =='a':\n",
    "        contador = contador + 1\n",
    "\n",
    "print(f'A frase contém {contador} lentras A.')"
   ]
  },
  {
   "cell_type": "markdown",
   "metadata": {},
   "source": [
    "#   Exercício 03 \n",
    "Faça um programa que calcule a soma dos números de 1 a 100. (FOR)"
   ]
  },
  {
   "cell_type": "code",
   "execution_count": null,
   "metadata": {},
   "outputs": [
    {
     "data": {
      "text/plain": [
       "100"
      ]
     },
     "execution_count": 17,
     "metadata": {},
     "output_type": "execute_result"
    }
   ],
   "source": [
    "num = range( 1, 101)\n",
    "\n",
    "for in :\n",
    "    if num % 2 ==0:\n",
    "        print(num)\n"
   ]
  },
  {
   "cell_type": "markdown",
   "metadata": {},
   "source": [
    "#   Exercício 04 \n",
    " Crie um programa que solicite ao usuário que digite uma senha e continue pedindo até que a senha digitada seja igual a \"12345\". Quando a senha for correta, exiba uma mensagem de boas-vindas. (WHILE)"
   ]
  },
  {
   "cell_type": "code",
   "execution_count": 2,
   "metadata": {},
   "outputs": [],
   "source": [
    "senha = input('Digite uma senha')\n",
    "\n",
    "while senha != \"12345\":\n",
    "    senha = input ('Digite uma senha')\n",
    "print (\"Seja bem vindo!\")\n"
   ]
  }
 ],
 "metadata": {
  "kernelspec": {
   "display_name": "Python 3",
   "language": "python",
   "name": "python3"
  },
  "language_info": {
   "codemirror_mode": {
    "name": "ipython",
    "version": 3
   },
   "file_extension": ".py",
   "mimetype": "text/x-python",
   "name": "python",
   "nbconvert_exporter": "python",
   "pygments_lexer": "ipython3",
   "version": "3.11.0"
  },
  "orig_nbformat": 4
 },
 "nbformat": 4,
 "nbformat_minor": 2
}
