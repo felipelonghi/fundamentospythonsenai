{
 "cells": [
  {
   "cell_type": "markdown",
   "id": "1645cef1",
   "metadata": {},
   "source": [
    " # CRIE UM CÓDIGO PARA CLASSIFICAR 5 NÚMEROS. O USUÁRIO PODE ESCOLHER EM CLASSIFICAR OS VALORES NA ORDEM CRESCENTE OU DESCRENTE\n",
    "\n",
    "### OBS: UTILIZA APENAS A ESTRUTURA  CONDIOCIONAL IF\n",
    "\n",
    "PUBLIQUE NO GUT HUB E FAÇA UMA POSTAGEM NO LINKEDN"
   ]
  },
  {
   "cell_type": "code",
   "execution_count": 3,
   "id": "d6b43d8f",
   "metadata": {},
   "outputs": [
    {
     "name": "stdout",
     "output_type": "stream",
     "text": [
      "Digite o primeiro valor:2\n",
      "Digite o segundo valor:36\n",
      "Digite o terceiro valor:658\n",
      "Digite o quarto valor:698\n",
      "Digite o quinto valor:14\n"
     ]
    }
   ],
   "source": [
    "# 1. DECLARAR AS VARIÁVEIS\n",
    "\n",
    "num_1 = float (input('Digite o primeiro valor:'))\n",
    "num_2 = float (input('Digite o segundo valor:'))\n",
    "num_3 = float (input('Digite o terceiro valor:'))\n",
    "num_4 = float (input('Digite o quarto valor:'))\n",
    "num_5 = float (input('Digite o quinto valor:'))\n",
    "\n",
    "if num_1 > num_2 and num_1 > num_3 and num_1 > num_4 and num_1 > num_5:\n",
    "    \n",
    "    if num_1 > num_2 and num_1 > num_3 and num_1 > num_4 and num_1 > num_5:\n",
    "    \n",
    "         print (f'1º valor:{num_1}),2º valor:{num_2}, 3º valor:{num_3}, 4º valor: {num_4}, 5º valor: {num_5}.')\n",
    "        \n",
    "    else:\n",
    "        print (f'1º valor:{num_1}),2º valor:{num_3}, 3º valor:{num_2},4º valor: {num_4}, 5º valor: {num_5}.')\n",
    "\n",
    "elif num_2 > num_3 and num_2 > num_4 and num_2 > num_5:\n",
    "    \n",
    "    if num_1 > num_5:\n",
    "    \n",
    "        print (f'1º valor:{num_2}),2º valor:{num_3}, 3º valor:{num_4}, 4º valor: {num_5}.')\n",
    "    else:\n",
    "        print (f'1º valor:{num_2}),2º valor:{num_3}, 3º valor:{num_4}, 4º valor: {num_5}.')\n",
    "        "
   ]
  },
  {
   "cell_type": "code",
   "execution_count": null,
   "id": "de00a4fc",
   "metadata": {},
   "outputs": [],
   "source": []
  },
  {
   "cell_type": "code",
   "execution_count": null,
   "id": "b8f49d95",
   "metadata": {},
   "outputs": [],
   "source": []
  },
  {
   "cell_type": "code",
   "execution_count": null,
   "id": "05fa0a1f",
   "metadata": {},
   "outputs": [],
   "source": []
  }
 ],
 "metadata": {
  "kernelspec": {
   "display_name": "Python 3 (ipykernel)",
   "language": "python",
   "name": "python3"
  },
  "language_info": {
   "codemirror_mode": {
    "name": "ipython",
    "version": 3
   },
   "file_extension": ".py",
   "mimetype": "text/x-python",
   "name": "python",
   "nbconvert_exporter": "python",
   "pygments_lexer": "ipython3",
   "version": "3.10.9"
  }
 },
 "nbformat": 4,
 "nbformat_minor": 5
}
