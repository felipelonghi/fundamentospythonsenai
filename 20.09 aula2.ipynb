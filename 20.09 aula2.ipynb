{
 "cells": [
  {
   "cell_type": "markdown",
   "metadata": {},
   "source": [
    "# Exercício 02 – Unindo dados com Pandas\n",
    "### a) Crie um dataframe para cada um dos arquivos nba_2015_a.csv, nba_2015_b.csv, nba_2015_c.csv e bust_nba_2015.csv. Chame esses dataframes de df_a, df_b, df_c, bust, respectivamente."
   ]
  },
  {
   "cell_type": "code",
   "execution_count": 5,
   "metadata": {},
   "outputs": [],
   "source": [
    "import pandas as pd\n",
    "\n",
    "path = 'C:\\\\Users\\\\FIC\\\\CURSO PYTHON - FELIPE MUNHOS\\\\Arquivos\\\\nba\\\\'\n",
    "file = 'bust_nba_2015.csv'\n",
    "\n",
    "df = pd.read_csv( path + file)\n",
    "\n",
    "\n"
   ]
  },
  {
   "cell_type": "code",
   "execution_count": 9,
   "metadata": {},
   "outputs": [],
   "source": [
    "\n",
    "path = 'C:\\\\Users\\\\FIC\\\\CURSO PYTHON - FELIPE MUNHOS\\\\Arquivos\\\\nba\\\\'\n",
    "file = 'bust_nba_2015.csv'\n",
    "\n",
    "df = pd.read_csv( path + file)"
   ]
  },
  {
   "cell_type": "markdown",
   "metadata": {},
   "source": [
    "### b) Visualize o head() de cada um dos dataframes.\n",
    "\n"
   ]
  },
  {
   "cell_type": "code",
   "execution_count": 7,
   "metadata": {},
   "outputs": [
    {
     "data": {
      "text/html": [
       "<div>\n",
       "<style scoped>\n",
       "    .dataframe tbody tr th:only-of-type {\n",
       "        vertical-align: middle;\n",
       "    }\n",
       "\n",
       "    .dataframe tbody tr th {\n",
       "        vertical-align: top;\n",
       "    }\n",
       "\n",
       "    .dataframe thead th {\n",
       "        text-align: right;\n",
       "    }\n",
       "</style>\n",
       "<table border=\"1\" class=\"dataframe\">\n",
       "  <thead>\n",
       "    <tr style=\"text-align: right;\">\n",
       "      <th></th>\n",
       "      <th>ID</th>\n",
       "      <th>Bust</th>\n",
       "    </tr>\n",
       "  </thead>\n",
       "  <tbody>\n",
       "    <tr>\n",
       "      <th>0</th>\n",
       "      <td>karl-anthony-towns</td>\n",
       "      <td>0.274967</td>\n",
       "    </tr>\n",
       "    <tr>\n",
       "      <th>1</th>\n",
       "      <td>justise-winslow</td>\n",
       "      <td>0.228800</td>\n",
       "    </tr>\n",
       "    <tr>\n",
       "      <th>2</th>\n",
       "      <td>stanley-johnson</td>\n",
       "      <td>0.229967</td>\n",
       "    </tr>\n",
       "    <tr>\n",
       "      <th>3</th>\n",
       "      <td>jahlil-okafor</td>\n",
       "      <td>0.295850</td>\n",
       "    </tr>\n",
       "    <tr>\n",
       "      <th>4</th>\n",
       "      <td>d-angelo-russell</td>\n",
       "      <td>0.409100</td>\n",
       "    </tr>\n",
       "  </tbody>\n",
       "</table>\n",
       "</div>"
      ],
      "text/plain": [
       "                   ID      Bust\n",
       "0  karl-anthony-towns  0.274967\n",
       "1     justise-winslow  0.228800\n",
       "2     stanley-johnson  0.229967\n",
       "3       jahlil-okafor  0.295850\n",
       "4    d-angelo-russell  0.409100"
      ]
     },
     "execution_count": 7,
     "metadata": {},
     "output_type": "execute_result"
    }
   ],
   "source": [
    "df.head()"
   ]
  },
  {
   "cell_type": "markdown",
   "metadata": {},
   "source": [
    "### c) Concatene os arquivos df_a, df_b e df_c, usando a função concat() usando os índices. Salve um dataframe chamado df_total."
   ]
  }
 ],
 "metadata": {
  "kernelspec": {
   "display_name": "Python 3",
   "language": "python",
   "name": "python3"
  },
  "language_info": {
   "codemirror_mode": {
    "name": "ipython",
    "version": 3
   },
   "file_extension": ".py",
   "mimetype": "text/x-python",
   "name": "python",
   "nbconvert_exporter": "python",
   "pygments_lexer": "ipython3",
   "version": "3.11.0"
  },
  "orig_nbformat": 4
 },
 "nbformat": 4,
 "nbformat_minor": 2
}
