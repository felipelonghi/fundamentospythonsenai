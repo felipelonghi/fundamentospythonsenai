{
 "cells": [
  {
   "cell_type": "code",
   "execution_count": 16,
   "metadata": {},
   "outputs": [],
   "source": [
    "import pandas as pd   # Manipular os dados\n",
    "import os             # Gerenciar arquivos no sistema operacional\n",
    "\n",
    "# Criar variavel para armazenar o caminho do diretorio com os arquivo \n",
    "\n",
    "dir_path = 'c:\\\\Users\\\\FIC\\\\CURSO PYTHON - FELIPE MUNHOS\\Arquivos\\\\filiais\\\\'\n",
    "\n",
    " # Criar uma lista vazia para armazenar os caminhos completos\n",
    "\n",
    "res = []\n",
    "\n",
    "for path in os.listdir (dir_path):\n",
    "    # verificar se é um arquivo valido\n",
    "    if os.path.isfile(dir_path + path):\n",
    "        res.append(dir_path + path)\n",
    "\n",
    "\n",
    "# Criar um dataframe vazio\n",
    "\n",
    "file_combined = pd.DataFrame()\n",
    "\n",
    "# Estrutura para combinar os arquivos\n",
    "\n",
    "for file in res:\n",
    "    df1 = pd.read_excel (file)\n",
    "    file_combined = pd.concat ([file_combined,df1])\n",
    "\n",
    "\n",
    "\n",
    "dir_Final = 'c:\\\\Users\\\\FIC\\\\CURSO PYTHON - FELIPE MUNHOS\\Arquivos\\\\filiais\\\\'\n",
    "fileName = 'ArquivoCambinado.xlsx'\n",
    "\n",
    "file_combined.to_excel(dir_Final + fileName)"
   ]
  },
  {
   "cell_type": "code",
   "execution_count": null,
   "metadata": {},
   "outputs": [],
   "source": []
  }
 ],
 "metadata": {
  "kernelspec": {
   "display_name": "Python 3",
   "language": "python",
   "name": "python3"
  },
  "language_info": {
   "codemirror_mode": {
    "name": "ipython",
    "version": 3
   },
   "file_extension": ".py",
   "mimetype": "text/x-python",
   "name": "python",
   "nbconvert_exporter": "python",
   "pygments_lexer": "ipython3",
   "version": "3.11.0"
  },
  "orig_nbformat": 4
 },
 "nbformat": 4,
 "nbformat_minor": 2
}
