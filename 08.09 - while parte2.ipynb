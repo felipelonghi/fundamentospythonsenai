{
 "cells": [
  {
   "cell_type": "markdown",
   "metadata": {},
   "source": [
    "#   Exercício 14\n",
    " Faça um programa que peça 10 números inteiros, calcule e mostre a quantidade de números pares e a quantidade de números ímpares."
   ]
  },
  {
   "cell_type": "markdown",
   "metadata": {},
   "source": []
  },
  {
   "cell_type": "code",
   "execution_count": 48,
   "metadata": {},
   "outputs": [
    {
     "ename": "ValueError",
     "evalue": "invalid literal for int() with base 10: ''",
     "output_type": "error",
     "traceback": [
      "\u001b[1;31m---------------------------------------------------------------------------\u001b[0m",
      "\u001b[1;31mValueError\u001b[0m                                Traceback (most recent call last)",
      "Cell \u001b[1;32mIn[48], line 9\u001b[0m\n\u001b[0;32m      6\u001b[0m i \u001b[39m=\u001b[39m \u001b[39m1\u001b[39m\n\u001b[0;32m      8\u001b[0m \u001b[39mwhile\u001b[39;00m i \u001b[39m<\u001b[39m\u001b[39m=\u001b[39m \u001b[39m10\u001b[39m:\n\u001b[1;32m----> 9\u001b[0m     numero \u001b[39m=\u001b[39m \u001b[39mint\u001b[39;49m(\u001b[39minput\u001b[39;49m(\u001b[39m\"\u001b[39;49m\u001b[39m Digite um número inteiro: \u001b[39;49m\u001b[39m\"\u001b[39;49m))\n\u001b[0;32m     11\u001b[0m     \u001b[39m# Adicionar a lista\u001b[39;00m\n\u001b[0;32m     12\u001b[0m     numeros\u001b[39m.\u001b[39mappend(numero)\n",
      "\u001b[1;31mValueError\u001b[0m: invalid literal for int() with base 10: ''"
     ]
    }
   ],
   "source": [
    "\n",
    "#Lista vazia, resposavel por armazenar os valores inseridos\n",
    "\n",
    "numeros = []\n",
    "\n",
    "# variavel de controle de repetição\n",
    "i = 1\n",
    "\n",
    "while i <= 10:\n",
    "    numero = int(input(\" Digite um número inteiro: \"))\n",
    "    \n",
    "    # Adicionar a lista\n",
    "    numeros.append(numero)\n",
    "    i = i + 1\n",
    "\n",
    "# Contadores\n",
    "\n",
    "impar = 0\n",
    "par = 0\n",
    "\n",
    "\n",
    "for num in numeros:\n",
    "\n",
    "    if num % 2 != 0:\n",
    "        impar += 1 \n",
    "    \n",
    "    else:\n",
    "        par += 1\n",
    "\n",
    "print(f'Neste conjunto de números, contem { impar } numeros impares e {par} numeros pares')\n",
    "\n"
   ]
  },
  {
   "cell_type": "code",
   "execution_count": null,
   "metadata": {},
   "outputs": [
    {
     "name": "stdout",
     "output_type": "stream",
     "text": [
      "[202, 20, 10, 30, 25, 25, 10, 360, 10, 265]\n"
     ]
    }
   ],
   "source": [
    "lista = [] # Lista vazia\n",
    "\n",
    "i = 1 # Variavel de controle\n",
    "\n",
    "while i <= 10:\n",
    "   \n",
    "    numero = int(input('Digite um numero inteiro:'))\n",
    "   \n",
    "    lista.append (numero)\n",
    "    i = i + 1 \n",
    "print(lista)"
   ]
  },
  {
   "cell_type": "markdown",
   "metadata": {},
   "source": [
    "# Exercício 08 \n",
    "Faça um programa que leia 5 números e informe a soma e a média dos números."
   ]
  },
  {
   "cell_type": "code",
   "execution_count": 61,
   "metadata": {},
   "outputs": [
    {
     "name": "stdout",
     "output_type": "stream",
     "text": [
      "A lista contem os seguintes numeros:, lista_numeros\n",
      "A lista contem 1 numeros\n",
      "a soma dos valores é:  21.0\n",
      "A média dos valores é:  3.5\n"
     ]
    }
   ],
   "source": [
    "lista_numeros = []\n",
    "\n",
    "i = 0\n",
    "\n",
    "while i <=5:\n",
    "    numero = float(input( \"Digite um numero: \"))\n",
    "    lista_numeros.append(numero)\n",
    "\n",
    "    i += 1\n",
    "\n",
    "print ('A lista contem os seguintes numeros:, lista_numeros')\n",
    "print (f'A lista contem {1} numeros')\n",
    "\n",
    "soma = 0\n",
    "\n",
    "for x in lista_numeros:\n",
    "\n",
    "    soma = soma + x\n",
    "\n",
    "media = 0\n",
    "\n",
    "media = soma / i\n",
    "\n",
    "print ('a soma dos valores é: ', soma)\n",
    "print ('A média dos valores é: ', media)\n",
    "\n",
    "\n",
    "\n",
    "\n",
    "\n",
    "\n",
    "\n"
   ]
  },
  {
   "cell_type": "markdown",
   "metadata": {},
   "source": [
    "# Exercício 16 \n",
    "A série de Fibonacci é formada pela sequência 0,1,1,2,3,5,8,13,21,34,55,... Faça um programa que gere a série até que o valor seja maior que 500."
   ]
  },
  {
   "cell_type": "code",
   "execution_count": 68,
   "metadata": {},
   "outputs": [
    {
     "name": "stdout",
     "output_type": "stream",
     "text": [
      "******** calculo de fatorial *********\n",
      "0\n"
     ]
    }
   ],
   "source": [
    "sequencia = []\n",
    "\n",
    "print (\"******** calculo de fatorial *********\")\n",
    "\n",
    "i = int(input('Digite um numero para calcular o fatorial: '))\n",
    "fatorial = 0\n",
    "\n",
    "while i >= 1:\n",
    "    \n",
    "    fatorial = fatorial * (fator -1 )\n",
    "    print(fatorial)\n",
    "    i = i - 1\n",
    "    \n",
    "print( fatorial)"
   ]
  }
 ],
 "metadata": {
  "kernelspec": {
   "display_name": "Python 3",
   "language": "python",
   "name": "python3"
  },
  "language_info": {
   "codemirror_mode": {
    "name": "ipython",
    "version": 3
   },
   "file_extension": ".py",
   "mimetype": "text/x-python",
   "name": "python",
   "nbconvert_exporter": "python",
   "pygments_lexer": "ipython3",
   "version": "3.11.0"
  },
  "orig_nbformat": 4
 },
 "nbformat": 4,
 "nbformat_minor": 2
}
