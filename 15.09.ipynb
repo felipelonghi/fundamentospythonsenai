{
 "cells": [
  {
   "cell_type": "markdown",
   "metadata": {},
   "source": [
    "# Exercício 03 – Manipulando dados com Pandas"
   ]
  },
  {
   "cell_type": "markdown",
   "metadata": {},
   "source": [
    "### a) Crie um programa em pandas para ler o arquivo em Excel vendas.xlsx \n",
    "### b) coloque em um dataframe.\n",
    "### c) Visualize o cabeçalho dos dados;"
   ]
  },
  {
   "cell_type": "code",
   "execution_count": 2,
   "metadata": {},
   "outputs": [
    {
     "data": {
      "text/html": [
       "<div>\n",
       "<style scoped>\n",
       "    .dataframe tbody tr th:only-of-type {\n",
       "        vertical-align: middle;\n",
       "    }\n",
       "\n",
       "    .dataframe tbody tr th {\n",
       "        vertical-align: top;\n",
       "    }\n",
       "\n",
       "    .dataframe thead th {\n",
       "        text-align: right;\n",
       "    }\n",
       "</style>\n",
       "<table border=\"1\" class=\"dataframe\">\n",
       "  <thead>\n",
       "    <tr style=\"text-align: right;\">\n",
       "      <th></th>\n",
       "      <th>Coluna 1</th>\n",
       "      <th>Coluna 2</th>\n",
       "      <th>Coluna 3</th>\n",
       "      <th>Coluna 4</th>\n",
       "      <th>Coluna 5</th>\n",
       "      <th>Coluna 6</th>\n",
       "    </tr>\n",
       "  </thead>\n",
       "  <tbody>\n",
       "    <tr>\n",
       "      <th>0</th>\n",
       "      <td>2014-01-01</td>\n",
       "      <td>Bernardo de Sousa</td>\n",
       "      <td>Supervisor de Vendas Pl</td>\n",
       "      <td>ACME</td>\n",
       "      <td>AL</td>\n",
       "      <td>3276.20</td>\n",
       "    </tr>\n",
       "    <tr>\n",
       "      <th>1</th>\n",
       "      <td>2014-01-01</td>\n",
       "      <td>Bernardo de Sousa</td>\n",
       "      <td>Supervisor de Vendas Pl</td>\n",
       "      <td>ACME</td>\n",
       "      <td>AP</td>\n",
       "      <td>3005.86</td>\n",
       "    </tr>\n",
       "    <tr>\n",
       "      <th>2</th>\n",
       "      <td>2014-01-01</td>\n",
       "      <td>Bernardo de Sousa</td>\n",
       "      <td>Supervisor de Vendas Pl</td>\n",
       "      <td>ACME</td>\n",
       "      <td>MA</td>\n",
       "      <td>8568.54</td>\n",
       "    </tr>\n",
       "    <tr>\n",
       "      <th>3</th>\n",
       "      <td>2014-01-01</td>\n",
       "      <td>Bernardo de Sousa</td>\n",
       "      <td>Supervisor de Vendas Pl</td>\n",
       "      <td>ACME</td>\n",
       "      <td>MG</td>\n",
       "      <td>1344.27</td>\n",
       "    </tr>\n",
       "    <tr>\n",
       "      <th>4</th>\n",
       "      <td>2014-01-01</td>\n",
       "      <td>Bernardo de Sousa</td>\n",
       "      <td>Supervisor de Vendas Pl</td>\n",
       "      <td>ACME</td>\n",
       "      <td>MS</td>\n",
       "      <td>7585.04</td>\n",
       "    </tr>\n",
       "  </tbody>\n",
       "</table>\n",
       "</div>"
      ],
      "text/plain": [
       "    Coluna 1           Coluna 2                 Coluna 3 Coluna 4 Coluna 5  \\\n",
       "0 2014-01-01  Bernardo de Sousa  Supervisor de Vendas Pl     ACME       AL   \n",
       "1 2014-01-01  Bernardo de Sousa  Supervisor de Vendas Pl     ACME       AP   \n",
       "2 2014-01-01  Bernardo de Sousa  Supervisor de Vendas Pl     ACME       MA   \n",
       "3 2014-01-01  Bernardo de Sousa  Supervisor de Vendas Pl     ACME       MG   \n",
       "4 2014-01-01  Bernardo de Sousa  Supervisor de Vendas Pl     ACME       MS   \n",
       "\n",
       "   Coluna 6  \n",
       "0   3276.20  \n",
       "1   3005.86  \n",
       "2   8568.54  \n",
       "3   1344.27  \n",
       "4   7585.04  "
      ]
     },
     "execution_count": 2,
     "metadata": {},
     "output_type": "execute_result"
    }
   ],
   "source": [
    "import pandas as pd\n",
    "\n",
    "caminho = \"C:\\\\Users\\FIC\\CURSO PYTHON - FELIPE MUNHOS\\\\016 - Python -  Fundamentos de Big Data e Data Analytics-20230911T220810Z-001 (2)\\\\016 - Python -  Fundamentos de Big Data e Data Analytics\\\\003 - Arquivos\\\\\"\n",
    "\n",
    "arquivo = \"Vendas.xlsx\"\n",
    "\n",
    "# Alocar o documento em um Dataframe\n",
    "\n",
    "df = pd.read_excel(caminho + arquivo, sheet_name= \"Planilha1\")\n",
    "\n",
    "# visualizar a cabeçalho dos dados\n",
    "\n",
    "df.head()"
   ]
  },
  {
   "cell_type": "markdown",
   "metadata": {},
   "source": [
    "### d) Visualize as últimas linhas;"
   ]
  },
  {
   "cell_type": "code",
   "execution_count": 3,
   "metadata": {},
   "outputs": [
    {
     "ename": "SyntaxError",
     "evalue": "unmatched ')' (3855563953.py, line 1)",
     "output_type": "error",
     "traceback": [
      "\u001b[1;36m  Cell \u001b[1;32mIn[3], line 1\u001b[1;36m\u001b[0m\n\u001b[1;33m    e) Escreva um programa para renomear o cabeçalho da tabela com os\u001b[0m\n\u001b[1;37m     ^\u001b[0m\n\u001b[1;31mSyntaxError\u001b[0m\u001b[1;31m:\u001b[0m unmatched ')'\n"
     ]
    }
   ],
   "source": []
  },
  {
   "cell_type": "markdown",
   "metadata": {},
   "source": [
    "### e) Escreva um programa para renomear o cabeçalho da tabela com os\n"
   ]
  },
  {
   "cell_type": "code",
   "execution_count": 5,
   "metadata": {},
   "outputs": [],
   "source": [
    "df.columns = ['data','Vendedor','cargo','cliente',\"uf \",'vendas']"
   ]
  },
  {
   "cell_type": "markdown",
   "metadata": {},
   "source": [
    "### f) seguintes nomes:"
   ]
  },
  {
   "cell_type": "code",
   "execution_count": 17,
   "metadata": {},
   "outputs": [
    {
     "data": {
      "text/html": [
       "<div>\n",
       "<style scoped>\n",
       "    .dataframe tbody tr th:only-of-type {\n",
       "        vertical-align: middle;\n",
       "    }\n",
       "\n",
       "    .dataframe tbody tr th {\n",
       "        vertical-align: top;\n",
       "    }\n",
       "\n",
       "    .dataframe thead th {\n",
       "        text-align: right;\n",
       "    }\n",
       "</style>\n",
       "<table border=\"1\" class=\"dataframe\">\n",
       "  <thead>\n",
       "    <tr style=\"text-align: right;\">\n",
       "      <th></th>\n",
       "      <th>data</th>\n",
       "      <th>Vendedor</th>\n",
       "      <th>cargo</th>\n",
       "      <th>cliente</th>\n",
       "      <th>uf</th>\n",
       "      <th>vendas</th>\n",
       "    </tr>\n",
       "  </thead>\n",
       "  <tbody>\n",
       "    <tr>\n",
       "      <th>0</th>\n",
       "      <td>2014-01-01</td>\n",
       "      <td>Bernardo de Sousa</td>\n",
       "      <td>Supervisor de Vendas Pl</td>\n",
       "      <td>ACME</td>\n",
       "      <td>AL</td>\n",
       "      <td>3276.20</td>\n",
       "    </tr>\n",
       "    <tr>\n",
       "      <th>1</th>\n",
       "      <td>2014-01-01</td>\n",
       "      <td>Bernardo de Sousa</td>\n",
       "      <td>Supervisor de Vendas Pl</td>\n",
       "      <td>ACME</td>\n",
       "      <td>AP</td>\n",
       "      <td>3005.86</td>\n",
       "    </tr>\n",
       "    <tr>\n",
       "      <th>2</th>\n",
       "      <td>2014-01-01</td>\n",
       "      <td>Bernardo de Sousa</td>\n",
       "      <td>Supervisor de Vendas Pl</td>\n",
       "      <td>ACME</td>\n",
       "      <td>MA</td>\n",
       "      <td>8568.54</td>\n",
       "    </tr>\n",
       "    <tr>\n",
       "      <th>3</th>\n",
       "      <td>2014-01-01</td>\n",
       "      <td>Bernardo de Sousa</td>\n",
       "      <td>Supervisor de Vendas Pl</td>\n",
       "      <td>ACME</td>\n",
       "      <td>MG</td>\n",
       "      <td>1344.27</td>\n",
       "    </tr>\n",
       "    <tr>\n",
       "      <th>4</th>\n",
       "      <td>2014-01-01</td>\n",
       "      <td>Bernardo de Sousa</td>\n",
       "      <td>Supervisor de Vendas Pl</td>\n",
       "      <td>ACME</td>\n",
       "      <td>MS</td>\n",
       "      <td>7585.04</td>\n",
       "    </tr>\n",
       "  </tbody>\n",
       "</table>\n",
       "</div>"
      ],
      "text/plain": [
       "        data           Vendedor                    cargo cliente uf    vendas\n",
       "0 2014-01-01  Bernardo de Sousa  Supervisor de Vendas Pl    ACME  AL  3276.20\n",
       "1 2014-01-01  Bernardo de Sousa  Supervisor de Vendas Pl    ACME  AP  3005.86\n",
       "2 2014-01-01  Bernardo de Sousa  Supervisor de Vendas Pl    ACME  MA  8568.54\n",
       "3 2014-01-01  Bernardo de Sousa  Supervisor de Vendas Pl    ACME  MG  1344.27\n",
       "4 2014-01-01  Bernardo de Sousa  Supervisor de Vendas Pl    ACME  MS  7585.04"
      ]
     },
     "execution_count": 17,
     "metadata": {},
     "output_type": "execute_result"
    }
   ],
   "source": [
    "df.head()"
   ]
  },
  {
   "cell_type": "markdown",
   "metadata": {},
   "source": [
    "### g) Quais são os tipos de dados que temos no dataframe?\n"
   ]
  },
  {
   "cell_type": "code",
   "execution_count": 16,
   "metadata": {},
   "outputs": [
    {
     "name": "stdout",
     "output_type": "stream",
     "text": [
      "<class 'pandas.core.frame.DataFrame'>\n",
      "RangeIndex: 130466 entries, 0 to 130465\n",
      "Data columns (total 6 columns):\n",
      " #   Column    Non-Null Count   Dtype         \n",
      "---  ------    --------------   -----         \n",
      " 0   data      130466 non-null  datetime64[ns]\n",
      " 1   Vendedor  130466 non-null  object        \n",
      " 2   cargo     130466 non-null  object        \n",
      " 3   cliente   130466 non-null  object        \n",
      " 4   uf        130466 non-null  object        \n",
      " 5   vendas    130466 non-null  float64       \n",
      "dtypes: datetime64[ns](1), float64(1), object(4)\n",
      "memory usage: 6.0+ MB\n"
     ]
    }
   ],
   "source": [
    "df.info()"
   ]
  },
  {
   "cell_type": "markdown",
   "metadata": {},
   "source": [
    "### h) Há valores faltantes ou nulos?"
   ]
  },
  {
   "cell_type": "code",
   "execution_count": 13,
   "metadata": {},
   "outputs": [
    {
     "data": {
      "text/plain": [
       "0"
      ]
     },
     "execution_count": 13,
     "metadata": {},
     "output_type": "execute_result"
    }
   ],
   "source": [
    "# Indentificar quais registros são nulos\n",
    "df[\"vendas\"].isnull()\n",
    "\n",
    "# quantificar os elementos nulos\n",
    "df[\"vendas\"].isnull().sum()"
   ]
  },
  {
   "cell_type": "markdown",
   "metadata": {},
   "source": [
    "### i) Calcule a soma, média, máximo, mínimo e contagem da coluna Preço."
   ]
  },
  {
   "cell_type": "code",
   "execution_count": 18,
   "metadata": {},
   "outputs": [
    {
     "name": "stdout",
     "output_type": "stream",
     "text": [
      "O total da coluna vendas é: 718501609.25\n",
      "O média da coluna vendas é: 5507.194282418408\n",
      "O maior valor da coluna vendas é: 10000.0\n",
      "O menor valor da coluna vendas é: 1000.01\n"
     ]
    }
   ],
   "source": [
    "print(\"O total da coluna vendas é:\", df['vendas'].sum())\n",
    "      \n",
    "print(\"O média da coluna vendas é:\", df['vendas'].mean())\n",
    "\n",
    "print(\"O maior valor da coluna vendas é:\", df['vendas'].max())      \n",
    "\n",
    "print(\"O menor valor da coluna vendas é:\", df['vendas'].min())      "
   ]
  },
  {
   "cell_type": "markdown",
   "metadata": {},
   "source": [
    "j) Crie um programa para criar um dataframe para mostrar as vendas por cargo, e salvar um arquivo em csv para com o nome de cada cargo:\n",
    "\n",
    "Supervisor de Vendas Pl\n",
    "\n",
    "Gerente Regional Jr.\n",
    "\n",
    "Supervisor de Vendas Sr\n",
    "\n",
    "Coordenador de Vendas Pl.\n",
    "\n",
    "Vendedor Jr.\n",
    "\n",
    "Vendedor Sr.\n",
    "\n",
    "Vendedor Pl.\n",
    "\n",
    "Gerente Regional Pl.\n",
    "\n",
    "Coordenador de Vendas Sr.\n",
    "\n",
    "Coordenador de Vendas Jr.\n",
    "\n",
    "Supervisor de Vendas Jr."
   ]
  },
  {
   "cell_type": "code",
   "execution_count": 38,
   "metadata": {},
   "outputs": [],
   "source": [
    "# Filtrar as vendas de acordo com o cargo\n",
    "\n",
    "dados = df[df['cargo']=='supervisor de venda Pl']\n",
    "\n",
    "# Pasta para salvar o arquivo\n",
    "\n",
    "caminho =  'C:\\\\Users\\FIC\\\\CURSO PYTHON - FELIPE MUNHOS\\\\016 - Python -  Fundamentos de Big Data e Data Analytics-20230911T220810Z-001 (2)\\\\016 - Python -  Fundamentos de Big Data e Data Analytics\\\\'\n",
    "\n",
    "arquivo = 'Supervisor de vendas PL.CSV'\n",
    "\n",
    "# Salvar o arquivo no diretório\n",
    "\n",
    "dados.to_csv(caminho + arquivo,encoding = 'ANSI')\n"
   ]
  },
  {
   "cell_type": "code",
   "execution_count": 37,
   "metadata": {},
   "outputs": [],
   "source": [
    "# Filtrar as vendas de acordo com o cargo\n",
    "\n",
    "dados = df[df['cargo']=='Supervisor de Vendas Sr']\n",
    "\n",
    "# Pasta para salvar o arquivo\n",
    "\n",
    "caminho =  'C:\\\\Users\\FIC\\\\CURSO PYTHON - FELIPE MUNHOS\\\\016 - Python -  Fundamentos de Big Data e Data Analytics-20230911T220810Z-001 (2)\\\\016 - Python -  Fundamentos de Big Data e Data Analytics\\\\'\n",
    "\n",
    "arquivo = 'Supervisor de Vendas Sr.CSV'\n",
    "\n",
    "# Salvar o arquivo no diretório\n",
    "\n",
    "dados.to_csv(caminho + arquivo,encoding = 'ANSI')\n"
   ]
  },
  {
   "cell_type": "code",
   "execution_count": null,
   "metadata": {},
   "outputs": [],
   "source": [
    "# Filtrar as vendas de acordo com o cargo\n",
    "\n",
    "dados = df[df['cargo']=='supervisor de venda Pl']\n",
    "\n",
    "# Pasta para salvar o arquivo\n",
    "\n",
    "caminho =  'C:\\\\Users\\FIC\\\\CURSO PYTHON - FELIPE MUNHOS\\\\016 - Python -  Fundamentos de Big Data e Data Analytics-20230911T220810Z-001 (2)\\\\016 - Python -  Fundamentos de Big Data e Data Analytics\\\\'\n",
    "\n",
    "arquivo = 'Supervisor de vendas PL.CSV'\n",
    "\n",
    "# Salvar o arquivo no diretório\n",
    "\n",
    "dados.to_csv(caminho + arquivo,encoding = 'ANSI')\n",
    "\n"
   ]
  },
  {
   "cell_type": "code",
   "execution_count": 36,
   "metadata": {},
   "outputs": [],
   "source": [
    "# Filtrar as vendas de acordo com o cargo\n",
    "\n",
    "dados = df[df['cargo']=='Coordenador de Vendas Pl.']\n",
    "\n",
    "# Pasta para salvar o arquivo\n",
    "\n",
    "caminho =  'C:\\\\Users\\FIC\\\\CURSO PYTHON - FELIPE MUNHOS\\\\016 - Python -  Fundamentos de Big Data e Data Analytics-20230911T220810Z-001 (2)\\\\016 - Python -  Fundamentos de Big Data e Data Analytics\\\\'\n",
    "\n",
    "arquivo = 'Coordenador de Vendas Pl..CSV'\n",
    "\n",
    "# Salvar o arquivo no diretório\n",
    "\n",
    "dados.to_csv(caminho + arquivo,encoding = 'ANSI')"
   ]
  },
  {
   "cell_type": "code",
   "execution_count": 32,
   "metadata": {},
   "outputs": [],
   "source": [
    "# Filtrar as vendas de acordo com o cargo\n",
    "\n",
    "dados = df[df['cargo']=='Vendedor Jr.']\n",
    "\n",
    "# Pasta para salvar o arquivo\n",
    "\n",
    "caminho =  'C:\\\\Users\\FIC\\\\CURSO PYTHON - FELIPE MUNHOS\\\\016 - Python -  Fundamentos de Big Data e Data Analytics-20230911T220810Z-001 (2)\\\\016 - Python -  Fundamentos de Big Data e Data Analytics\\\\'\n",
    "\n",
    "arquivo = 'Vendedor Jr..CSV'\n",
    "\n",
    "# Salvar o arquivo no diretório\n",
    "\n",
    "dados.to_csv(caminho + arquivo,encoding = 'ANSI')"
   ]
  },
  {
   "cell_type": "code",
   "execution_count": 33,
   "metadata": {},
   "outputs": [],
   "source": [
    "# Filtrar as vendas de acordo com o cargo\n",
    "\n",
    "dados = df[df['cargo']=='Vendedor Sr.']\n",
    "\n",
    "# Pasta para salvar o arquivo\n",
    "\n",
    "caminho =  'C:\\\\Users\\FIC\\\\CURSO PYTHON - FELIPE MUNHOS\\\\016 - Python -  Fundamentos de Big Data e Data Analytics-20230911T220810Z-001 (2)\\\\016 - Python -  Fundamentos de Big Data e Data Analytics\\\\'\n",
    "\n",
    "arquivo = 'Vendedor Sr.CSV'\n",
    "\n",
    "# Salvar o arquivo no diretório\n",
    "\n",
    "dados.to_csv(caminho + arquivo,encoding = 'ANSI')"
   ]
  },
  {
   "cell_type": "code",
   "execution_count": 34,
   "metadata": {},
   "outputs": [],
   "source": [
    "# Filtrar as vendas de acordo com o cargo\n",
    "\n",
    "dados = df[df['cargo']=='Vendedor Pl.']\n",
    "\n",
    "# Pasta para salvar o arquivo\n",
    "\n",
    "caminho =  'C:\\\\Users\\FIC\\\\CURSO PYTHON - FELIPE MUNHOS\\\\016 - Python -  Fundamentos de Big Data e Data Analytics-20230911T220810Z-001 (2)\\\\016 - Python -  Fundamentos de Big Data e Data Analytics\\\\'\n",
    "\n",
    "arquivo = 'Vendedor Pl.CSV'\n",
    "\n",
    "# Salvar o arquivo no diretório\n",
    "\n",
    "dados.to_csv(caminho + arquivo,encoding = 'ANSI')"
   ]
  },
  {
   "cell_type": "code",
   "execution_count": 35,
   "metadata": {},
   "outputs": [],
   "source": [
    "# Filtrar as vendas de acordo com o cargo\n",
    "\n",
    "dados = df[df['cargo']=='Gerente Regional Pl.']\n",
    "\n",
    "# Pasta para salvar o arquivo\n",
    "\n",
    "caminho =  'C:\\\\Users\\FIC\\\\CURSO PYTHON - FELIPE MUNHOS\\\\016 - Python -  Fundamentos de Big Data e Data Analytics-20230911T220810Z-001 (2)\\\\016 - Python -  Fundamentos de Big Data e Data Analytics\\\\'\n",
    "\n",
    "arquivo = 'Gerente Regional Pl.CSV'\n",
    "\n",
    "# Salvar o arquivo no diretório\n",
    "\n",
    "dados.to_csv(caminho + arquivo,encoding = 'ANSI')"
   ]
  },
  {
   "cell_type": "code",
   "execution_count": 28,
   "metadata": {},
   "outputs": [],
   "source": [
    "# Filtrar as vendas de acordo com o cargo\n",
    "\n",
    "dados = df[df['cargo']=='Coordenador de Vendas Sr.']\n",
    "\n",
    "# Pasta para salvar o arquivo\n",
    "\n",
    "caminho =  'C:\\\\Users\\FIC\\\\CURSO PYTHON - FELIPE MUNHOS\\\\016 - Python -  Fundamentos de Big Data e Data Analytics-20230911T220810Z-001 (2)\\\\016 - Python -  Fundamentos de Big Data e Data Analytics\\\\'\n",
    "\n",
    "arquivo = 'Coordenador de Vendas Sr.CSV'\n",
    "\n",
    "# Salvar o arquivo no diretório\n",
    "\n",
    "dados.to_csv(caminho + arquivo,encoding = 'ANSI')\n"
   ]
  },
  {
   "cell_type": "code",
   "execution_count": 29,
   "metadata": {},
   "outputs": [],
   "source": [
    "# Filtrar as vendas de acordo com o cargo\n",
    "\n",
    "dados = df[df['cargo']=='Coordenador de Vendas Jr.']\n",
    "\n",
    "# Pasta para salvar o arquivo\n",
    "\n",
    "caminho =  'C:\\\\Users\\FIC\\\\CURSO PYTHON - FELIPE MUNHOS\\\\016 - Python -  Fundamentos de Big Data e Data Analytics-20230911T220810Z-001 (2)\\\\016 - Python -  Fundamentos de Big Data e Data Analytics\\\\'\n",
    "\n",
    "arquivo = 'Coordenador de Vendas Jr..CSV'\n",
    "\n",
    "# Salvar o arquivo no diretório\n",
    "\n",
    "dados.to_csv(caminho + arquivo,encoding = 'ANSI')\n"
   ]
  },
  {
   "cell_type": "code",
   "execution_count": 31,
   "metadata": {},
   "outputs": [],
   "source": [
    "# Filtrar as vendas de acordo com o cargo\n",
    "\n",
    "dados = df[df['cargo']==\"Supervisor de Vendas Jr.\"]\n",
    "\n",
    "# Pasta para salvar o arquivo\n",
    "\n",
    "caminho = 'C:\\\\Users\\FIC\\\\CURSO PYTHON - FELIPE MUNHOS\\\\016 - Python -  Fundamentos de Big Data e Data Analytics-20230911T220810Z-001 (2)\\\\016 - Python -  Fundamentos de Big Data e Data Analytics\\\\'\n",
    "\n",
    "arquivo = 'Supervisor de Vendas Jr..CSV'\n",
    "\n",
    "# Salvar o arquivo no diretório\n",
    "\n",
    "dados.to_csv(caminho + arquivo,encoding = 'ANSI')\n"
   ]
  },
  {
   "cell_type": "markdown",
   "metadata": {},
   "source": [
    "# 9. Crie um dataframe para cada coluna, contendo dados únicos."
   ]
  },
  {
   "cell_type": "code",
   "execution_count": 42,
   "metadata": {},
   "outputs": [
    {
     "data": {
      "text/plain": [
       "11"
      ]
     },
     "execution_count": 42,
     "metadata": {},
     "output_type": "execute_result"
    }
   ],
   "source": [
    "# Criar um Dataframe apenas com a colun\n",
    "dados_cargos= df ['cargo']\n",
    "\n",
    "# Contar quantos elementos existem antes de remover as duplicadas\n",
    "dados_cargos.count()\n",
    "\n",
    "# Criar um novo dataframe sem duplicadas\n",
    "dados_cargos = dados_cargos.drop_duplicates()\n",
    "\n",
    "# Contar quantos elementos ficaram após a remoção das duplicadas\n",
    "dados_cargos.count()"
   ]
  },
  {
   "cell_type": "markdown",
   "metadata": {},
   "source": [
    "# Exercício 04 – Criando relatórios em função do arquivo dados-vendas.xlsx.\n",
    "### a) Crie um dataframe, utilizando o arquivo dados-vendas.xlsx. Crie data frames para dividir a planilha vendas em 4 arquivos. São eles:"
   ]
  },
  {
   "cell_type": "code",
   "execution_count": null,
   "metadata": {},
   "outputs": [],
   "source": []
  },
  {
   "cell_type": "markdown",
   "metadata": {},
   "source": [
    "### b) Com base na coluna Vendedor, construa um código que permita remover as duplicadas da coluna informada, e na sequência, filtre o dataframe e gere um relatório individual para cada vendedor. Para fazer isso, siga os procedimentos a seguir:"
   ]
  }
 ],
 "metadata": {
  "kernelspec": {
   "display_name": "Python 3",
   "language": "python",
   "name": "python3"
  },
  "language_info": {
   "codemirror_mode": {
    "name": "ipython",
    "version": 3
   },
   "file_extension": ".py",
   "mimetype": "text/x-python",
   "name": "python",
   "nbconvert_exporter": "python",
   "pygments_lexer": "ipython3",
   "version": "3.11.0"
  },
  "orig_nbformat": 4
 },
 "nbformat": 4,
 "nbformat_minor": 2
}
