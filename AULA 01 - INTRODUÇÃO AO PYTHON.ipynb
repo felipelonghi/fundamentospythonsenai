{
 "cells": [
  {
   "cell_type": "markdown",
   "id": "056d5662",
   "metadata": {},
   "source": [
    "## Primeira Aula de Python no SENAI\n",
    "\n",
    "Estou empolgado"
   ]
  },
  {
   "cell_type": "code",
   "execution_count": 12,
   "id": "c88f0e16",
   "metadata": {},
   "outputs": [
    {
     "name": "stdout",
     "output_type": "stream",
     "text": [
      " Hello, World\n"
     ]
    }
   ],
   "source": [
    "print(\" Hello, World\")"
   ]
  },
  {
   "cell_type": "markdown",
   "id": "c1f02fa1",
   "metadata": {},
   "source": [
    "## Declaração Variáveis"
   ]
  },
  {
   "cell_type": "code",
   "execution_count": 5,
   "id": "733ca4cb",
   "metadata": {},
   "outputs": [],
   "source": [
    "A = 10\n",
    "B = \"FELIPE\"\n",
    "C = 0.5\n",
    "D = [\"ABELHA\",'BETERRABA','CHURRASCO']"
   ]
  },
  {
   "cell_type": "code",
   "execution_count": 17,
   "id": "2cf3007f",
   "metadata": {},
   "outputs": [
    {
     "data": {
      "text/plain": [
       "list"
      ]
     },
     "execution_count": 17,
     "metadata": {},
     "output_type": "execute_result"
    }
   ],
   "source": [
    "type(D)"
   ]
  },
  {
   "cell_type": "markdown",
   "id": "6e245e9f",
   "metadata": {},
   "source": [
    "## Exercício 01 \n",
    "\n",
    "Crie um programa para receber dois valores e em seguida, exiba o valor da soma."
   ]
  },
  {
   "cell_type": "code",
   "execution_count": 25,
   "id": "74bdee3a",
   "metadata": {},
   "outputs": [],
   "source": [
    "num1 = 10\n",
    "num2 = 5\n",
    "\n",
    "soma = num1 + num2"
   ]
  },
  {
   "cell_type": "code",
   "execution_count": 26,
   "id": "eac7a37c",
   "metadata": {},
   "outputs": [
    {
     "name": "stdout",
     "output_type": "stream",
     "text": [
      "15\n"
     ]
    }
   ],
   "source": [
    "print (soma)"
   ]
  },
  {
   "cell_type": "markdown",
   "id": "9c93bfb8",
   "metadata": {},
   "source": [
    "## Exercício 02 \n",
    "\n",
    "Crie um programa para receber dois valores e em seguida, exiba o valor da diferença entre eles."
   ]
  },
  {
   "cell_type": "code",
   "execution_count": 27,
   "id": "56ed71d7",
   "metadata": {},
   "outputs": [],
   "source": [
    "num1 = 10\n",
    "num2 = 5\n",
    "\n",
    "soma = num1 - num2"
   ]
  },
  {
   "cell_type": "code",
   "execution_count": 28,
   "id": "8e8beb8c",
   "metadata": {},
   "outputs": [
    {
     "name": "stdout",
     "output_type": "stream",
     "text": [
      "5\n"
     ]
    }
   ],
   "source": [
    "print(soma)"
   ]
  },
  {
   "cell_type": "markdown",
   "id": "509f0123",
   "metadata": {},
   "source": [
    "## Exercício 03\n",
    "\n",
    "Crie um programa para receber dois valores e em seguida, exiba o produto entre eles."
   ]
  },
  {
   "cell_type": "code",
   "execution_count": 29,
   "id": "105ff6ab",
   "metadata": {},
   "outputs": [],
   "source": [
    "num1 = 10\n",
    "num2 = 5\n",
    "produto= num1 * num2"
   ]
  },
  {
   "cell_type": "code",
   "execution_count": 30,
   "id": "011f954a",
   "metadata": {
    "scrolled": true
   },
   "outputs": [
    {
     "name": "stdout",
     "output_type": "stream",
     "text": [
      "50\n"
     ]
    }
   ],
   "source": [
    "print( produto)"
   ]
  },
  {
   "cell_type": "markdown",
   "id": "8e370d34",
   "metadata": {},
   "source": [
    "## Exercício 04 \n",
    "\n",
    "Crie um programa para receber dois valores e em seguida, exiba o quociente entre eles."
   ]
  },
  {
   "cell_type": "code",
   "execution_count": 31,
   "id": "be360b3a",
   "metadata": {},
   "outputs": [],
   "source": [
    "num1 = 10\n",
    "num2 = 5\n",
    "quociente = num1 / num2"
   ]
  },
  {
   "cell_type": "code",
   "execution_count": 32,
   "id": "d6c0a405",
   "metadata": {},
   "outputs": [
    {
     "name": "stdout",
     "output_type": "stream",
     "text": [
      "2.0\n"
     ]
    }
   ],
   "source": [
    "print (quociente)"
   ]
  },
  {
   "cell_type": "markdown",
   "id": "5534e108",
   "metadata": {},
   "source": [
    "## Exercício 05\n",
    "Crie um programa para receber dois valores e em seguida, exiba o resto da divisão entre eles."
   ]
  },
  {
   "cell_type": "code",
   "execution_count": 49,
   "id": "90da2f49",
   "metadata": {},
   "outputs": [],
   "source": [
    "num1 = 10\n",
    "num2 = 3\n",
    "\n",
    "# Isto é um comentário\n",
    "# O simbolo % calcula o resto da divisão\n",
    "\n",
    "resto = num1 % num2\n"
   ]
  },
  {
   "cell_type": "code",
   "execution_count": 34,
   "id": "f36d7205",
   "metadata": {},
   "outputs": [
    {
     "name": "stdout",
     "output_type": "stream",
     "text": [
      "1\n"
     ]
    }
   ],
   "source": [
    "print(resto)"
   ]
  },
  {
   "cell_type": "markdown",
   "id": "d5528fc4",
   "metadata": {},
   "source": [
    "## Exercício 06 \n",
    "\n",
    "Crie um programa para receber um número e em seguida, exiba o quadrado dele."
   ]
  },
  {
   "cell_type": "code",
   "execution_count": 38,
   "id": "a1f0e079",
   "metadata": {},
   "outputs": [],
   "source": [
    "num = 5\n",
    "quadrado = num**3\n"
   ]
  },
  {
   "cell_type": "code",
   "execution_count": 40,
   "id": "9c4a3704",
   "metadata": {},
   "outputs": [
    {
     "name": "stdout",
     "output_type": "stream",
     "text": [
      "125\n"
     ]
    }
   ],
   "source": [
    "print (quadrado)"
   ]
  },
  {
   "cell_type": "markdown",
   "id": "4d281c69",
   "metadata": {},
   "source": [
    "## Exercício 07\n",
    "\n",
    "Elabora um programa para calcular a raiz quadrada de um número, utilizando a biblioteca math."
   ]
  },
  {
   "cell_type": "code",
   "execution_count": 45,
   "id": "4341e8bc",
   "metadata": {},
   "outputs": [],
   "source": [
    "import math\n",
    "num = 25\n",
    "raiz_quadrada = math.sqrt(num)"
   ]
  },
  {
   "cell_type": "code",
   "execution_count": 46,
   "id": "d1e1fe7b",
   "metadata": {},
   "outputs": [
    {
     "name": "stdout",
     "output_type": "stream",
     "text": [
      "5.0\n"
     ]
    }
   ],
   "source": [
    "print (raiz_quadrada)"
   ]
  },
  {
   "cell_type": "markdown",
   "id": "6e87a092",
   "metadata": {},
   "source": [
    "## Exercício 08\n",
    "\n",
    "Crie um programa que seja capaz de calcular o valor absoluto de um número."
   ]
  },
  {
   "cell_type": "code",
   "execution_count": 42,
   "id": "de5fe687",
   "metadata": {},
   "outputs": [],
   "source": [
    "\n",
    "num = -5\n",
    "absoluto = abs(num)\n"
   ]
  },
  {
   "cell_type": "code",
   "execution_count": 43,
   "id": "84471e99",
   "metadata": {},
   "outputs": [
    {
     "name": "stdout",
     "output_type": "stream",
     "text": [
      "5\n"
     ]
    }
   ],
   "source": [
    "print (absoluto)"
   ]
  },
  {
   "cell_type": "markdown",
   "id": "d73ae042",
   "metadata": {},
   "source": [
    "## Exercício 10 \n",
    "\n",
    "Faça um Programa que converta metros para centímetros.\n",
    "\n",
    "1) Receber o valor;\n",
    "2) pegar o valor em metro e multiolicar por 100;\n",
    "3) exibir o resulta"
   ]
  },
  {
   "cell_type": "code",
   "execution_count": 50,
   "id": "c1606046",
   "metadata": {},
   "outputs": [
    {
     "name": "stdout",
     "output_type": "stream",
     "text": [
      "10000\n"
     ]
    }
   ],
   "source": [
    "# Receber o valor em metros\n",
    "metros = 100\n",
    "\n",
    "# Pegar o valor em metros e multiplicar\n",
    "centimetros = metros * 100\n",
    "\n",
    "# exibir o resultado\n",
    "\n",
    "print(centimetros)"
   ]
  },
  {
   "cell_type": "markdown",
   "id": "ec2b0781",
   "metadata": {},
   "source": [
    "## Exercício 11\n",
    "\n",
    "Faça um Programa que peça o raio de um círculo, calcule e mostre sua área.\n"
   ]
  },
  {
   "cell_type": "code",
   "execution_count": 52,
   "id": "147fd0fd",
   "metadata": {},
   "outputs": [
    {
     "name": "stdout",
     "output_type": "stream",
     "text": [
      "1256.0\n"
     ]
    }
   ],
   "source": [
    "# 1. Receber o valor do raio\n",
    "raio = 20\n",
    "\n",
    "# 2. calcular a area do circulo\n",
    "area_circulo = 3.14*raio**2\n",
    "\n",
    "# 3. Exibir a area do circulo\n",
    "print(area_circulo)\n"
   ]
  },
  {
   "cell_type": "markdown",
   "id": "fbae9540",
   "metadata": {},
   "source": [
    "## Exercício 12 \n",
    "\n",
    "Faça um Programa que calcule a área de um quadrado, em seguida mostre o dobro desta área para o usuário."
   ]
  },
  {
   "cell_type": "code",
   "execution_count": 55,
   "id": "f0f7831b",
   "metadata": {},
   "outputs": [
    {
     "name": "stdout",
     "output_type": "stream",
     "text": [
      "A area do quadrado é: 100\n",
      "O dobro desta area é: 200\n"
     ]
    }
   ],
   "source": [
    "# 1. Receber o lado do quadrado\n",
    "lado = 10\n",
    "\n",
    "# 2. calcular a area do quadrado\n",
    "area_quadrado = lado ** 2\n",
    "\n",
    "# 3. Calcular o dobro da area\n",
    "area_dobro = area_quadrado * 2\n",
    "\n",
    "# 3. Exibir o resultado da área\n",
    "print(\"A area do quadrado é:\", area_quadrado)\n",
    "print(\"O dobro desta area é:\", area_dobro)\n"
   ]
  },
  {
   "cell_type": "markdown",
   "id": "d679879f",
   "metadata": {},
   "source": [
    "## Exercício 13\n",
    "\n",
    "Faça um Programa que pergunte quanto você ganha por hora e o número de horas trabalhadas no mês. Calcule e mostre o total do seu salário no referido mês."
   ]
  },
  {
   "cell_type": "code",
   "execution_count": null,
   "id": "e9ffcc53",
   "metadata": {},
   "outputs": [],
   "source": [
    "# 1. Solicitar um valor ao usuário\n",
    "\n",
    "valor_hora = input ('Informe o quanto você recebe por hora R$:')\n",
    "valor_hora = int ( valor_hora)\n",
    "\n",
    "type(valor_hora)\n"
   ]
  },
  {
   "cell_type": "code",
   "execution_count": null,
   "id": "bbb0271a",
   "metadata": {},
   "outputs": [],
   "source": []
  },
  {
   "cell_type": "code",
   "execution_count": null,
   "id": "fc78a1d2",
   "metadata": {},
   "outputs": [],
   "source": []
  }
 ],
 "metadata": {
  "kernelspec": {
   "display_name": "Python 3 (ipykernel)",
   "language": "python",
   "name": "python3"
  },
  "language_info": {
   "codemirror_mode": {
    "name": "ipython",
    "version": 3
   },
   "file_extension": ".py",
   "mimetype": "text/x-python",
   "name": "python",
   "nbconvert_exporter": "python",
   "pygments_lexer": "ipython3",
   "version": "3.10.9"
  }
 },
 "nbformat": 4,
 "nbformat_minor": 5
}
